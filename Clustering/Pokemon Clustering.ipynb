{
 "cells": [
  {
   "cell_type": "markdown",
   "metadata": {},
   "source": [
    "# K-Means Clustering based on Jaccard Distance Sample"
   ]
  },
  {
   "cell_type": "markdown",
   "metadata": {},
   "source": [
    "## Import\n",
    "Import **pandas** and **matplotlib**."
   ]
  },
  {
   "cell_type": "code",
   "execution_count": 50,
   "metadata": {},
   "outputs": [
    {
     "name": "stdout",
     "output_type": "stream",
     "text": [
      "The autoreload extension is already loaded. To reload it, use:\n",
      "  %reload_ext autoreload\n"
     ]
    }
   ],
   "source": [
    "import numpy as np\n",
    "import pandas as pd\n",
    "import matplotlib.pyplot as plt\n",
    "from kmeans import KMeans\n",
    "np.random.seed(212)\n",
    "%load_ext autoreload\n",
    "%autoreload 2"
   ]
  },
  {
   "cell_type": "markdown",
   "metadata": {},
   "source": [
    "## Synthetic Dataset\n",
    "Sample dataset."
   ]
  },
  {
   "cell_type": "code",
   "execution_count": 51,
   "metadata": {},
   "outputs": [],
   "source": [
    "sample_df = pd.read_csv('sample.csv')"
   ]
  },
  {
   "cell_type": "markdown",
   "metadata": {},
   "source": [
    "Show the contents of the `DataFrame` which contains the set of 300 randomly generated points."
   ]
  },
  {
   "cell_type": "code",
   "execution_count": 52,
   "metadata": {},
   "outputs": [
    {
     "name": "stdout",
     "output_type": "stream",
     "text": [
      "<class 'pandas.core.frame.DataFrame'>\n",
      "RangeIndex: 50 entries, 0 to 49\n",
      "Data columns (total 4 columns):\n",
      " #   Column    Non-Null Count  Dtype \n",
      "---  ------    --------------  ----- \n",
      " 0   Feature1  50 non-null     object\n",
      " 1   Feature2  50 non-null     object\n",
      " 2   Feature3  50 non-null     object\n",
      " 3   Feature4  50 non-null     object\n",
      "dtypes: object(4)\n",
      "memory usage: 1.7+ KB\n"
     ]
    }
   ],
   "source": [
    "sample_df.info()"
   ]
  },
  {
   "cell_type": "markdown",
   "metadata": {},
   "source": [
    "Display dataset info using the [`info()`](https://pandas.pydata.org/pandas-docs/stable/reference/api/pandas.DataFrame.info.html) function."
   ]
  },
  {
   "cell_type": "code",
   "execution_count": 53,
   "metadata": {},
   "outputs": [],
   "source": [
    "kmeans = KMeans(3, 50, sample_df)"
   ]
  },
  {
   "cell_type": "markdown",
   "metadata": {},
   "source": [
    "This uses the `jaccard_distance()` function. This function returns the Jaccard distance between 2 data points `P` and `Q` which describe two sets. \n",
    "\n",
    "$$D(P, Q)= 1 - \\frac{|P \\cap Q|}{|P \\cup Q|} $$\n",
    "\n",
    "We optimize this through the principle of inclusion-exclusion for finnite sets. Where: \n",
    "$${|P \\cup Q|} = {|P|+|Q|-|P \\cap Q|} $$\n",
    "\n",
    "Because we know that each set will be limited to 6 members only (6 Pokémon), we can simplify further.\n",
    "\n",
    "$${|P \\cup Q|} = {12-|P \\cap Q|} $$\n",
    "\n",
    "This yields the final formula: $$D(P, Q)= 1 - \\frac{|P \\cap Q|}{12-|P \\cap Q|} $$\n",
    "\n",
    "This function has 2 parameters - `point1` and `point2`. Where `point1` and `point2` can be:\n",
    "- a `Set` and a `Set` - this returns the Jaccard distance as a `np.float64`.\n",
    "- a `Series` and a `Set` - this returns a `Series` of Jaccard distances of a single data point and a `Series` of sets."
   ]
  },
  {
   "cell_type": "code",
   "execution_count": 54,
   "metadata": {},
   "outputs": [
    {
     "data": {
      "text/html": [
       "<div>\n",
       "<style scoped>\n",
       "    .dataframe tbody tr th:only-of-type {\n",
       "        vertical-align: middle;\n",
       "    }\n",
       "\n",
       "    .dataframe tbody tr th {\n",
       "        vertical-align: top;\n",
       "    }\n",
       "\n",
       "    .dataframe thead th {\n",
       "        text-align: right;\n",
       "    }\n",
       "</style>\n",
       "<table border=\"1\" class=\"dataframe\">\n",
       "  <thead>\n",
       "    <tr style=\"text-align: right;\">\n",
       "      <th></th>\n",
       "      <th>Pokemon 1</th>\n",
       "      <th>Pokemon 2</th>\n",
       "      <th>Pokemon 3</th>\n",
       "      <th>Pokemon 4</th>\n",
       "      <th>Pokemon 5</th>\n",
       "      <th>Pokemon 6</th>\n",
       "    </tr>\n",
       "  </thead>\n",
       "  <tbody>\n",
       "    <tr>\n",
       "      <th>0</th>\n",
       "      <td>Infernape</td>\n",
       "      <td>Breloom</td>\n",
       "      <td>Tyranitar</td>\n",
       "      <td>Jellicent</td>\n",
       "      <td>Bronzong</td>\n",
       "      <td>Reuniclus</td>\n",
       "    </tr>\n",
       "    <tr>\n",
       "      <th>1</th>\n",
       "      <td>Tyranitar</td>\n",
       "      <td>Alakazam</td>\n",
       "      <td>Latios</td>\n",
       "      <td>Ferrothorn</td>\n",
       "      <td>Landorus-Therian</td>\n",
       "      <td>Excadrill</td>\n",
       "    </tr>\n",
       "    <tr>\n",
       "      <th>2</th>\n",
       "      <td>Tyranitar</td>\n",
       "      <td>Amoonguss</td>\n",
       "      <td>Starmie</td>\n",
       "      <td>Alakazam</td>\n",
       "      <td>Heatran</td>\n",
       "      <td>Skarmory</td>\n",
       "    </tr>\n",
       "    <tr>\n",
       "      <th>3</th>\n",
       "      <td>Tyranitar</td>\n",
       "      <td>Stoutland</td>\n",
       "      <td>Forretress</td>\n",
       "      <td>Salamence</td>\n",
       "      <td>Gliscor</td>\n",
       "      <td>Breloom</td>\n",
       "    </tr>\n",
       "    <tr>\n",
       "      <th>4</th>\n",
       "      <td>Tornadus</td>\n",
       "      <td>Politoed</td>\n",
       "      <td>Tentacruel</td>\n",
       "      <td>Dugtrio</td>\n",
       "      <td>Ferrothorn</td>\n",
       "      <td>Jirachi</td>\n",
       "    </tr>\n",
       "    <tr>\n",
       "      <th>...</th>\n",
       "      <td>...</td>\n",
       "      <td>...</td>\n",
       "      <td>...</td>\n",
       "      <td>...</td>\n",
       "      <td>...</td>\n",
       "      <td>...</td>\n",
       "    </tr>\n",
       "    <tr>\n",
       "      <th>1785</th>\n",
       "      <td>Politoed</td>\n",
       "      <td>Amoonguss</td>\n",
       "      <td>Excadrill</td>\n",
       "      <td>Thundurus-Therian</td>\n",
       "      <td>Keldeo</td>\n",
       "      <td>Ferrothorn</td>\n",
       "    </tr>\n",
       "    <tr>\n",
       "      <th>1786</th>\n",
       "      <td>Politoed</td>\n",
       "      <td>Gyarados</td>\n",
       "      <td>Jolteon</td>\n",
       "      <td>Ferrothorn</td>\n",
       "      <td>Haxorus</td>\n",
       "      <td>Umbreon</td>\n",
       "    </tr>\n",
       "    <tr>\n",
       "      <th>1787</th>\n",
       "      <td>Scizor</td>\n",
       "      <td>Togekiss</td>\n",
       "      <td>Hippowdon</td>\n",
       "      <td>Infernape</td>\n",
       "      <td>Terrakion</td>\n",
       "      <td>Sableye</td>\n",
       "    </tr>\n",
       "    <tr>\n",
       "      <th>1788</th>\n",
       "      <td>Tyranitar</td>\n",
       "      <td>Garchomp</td>\n",
       "      <td>Heatran</td>\n",
       "      <td>Conkeldurr</td>\n",
       "      <td>Forretress</td>\n",
       "      <td>Jellicent</td>\n",
       "    </tr>\n",
       "    <tr>\n",
       "      <th>1789</th>\n",
       "      <td>Tyranitar</td>\n",
       "      <td>Landorus-Therian</td>\n",
       "      <td>Slowking</td>\n",
       "      <td>Excadrill</td>\n",
       "      <td>Latios</td>\n",
       "      <td>Scizor</td>\n",
       "    </tr>\n",
       "  </tbody>\n",
       "</table>\n",
       "<p>1790 rows × 6 columns</p>\n",
       "</div>"
      ],
      "text/plain": [
       "      Pokemon 1         Pokemon 2   Pokemon 3          Pokemon 4  \\\n",
       "0     Infernape           Breloom   Tyranitar          Jellicent   \n",
       "1     Tyranitar          Alakazam      Latios         Ferrothorn   \n",
       "2     Tyranitar         Amoonguss     Starmie           Alakazam   \n",
       "3     Tyranitar         Stoutland  Forretress          Salamence   \n",
       "4      Tornadus          Politoed  Tentacruel            Dugtrio   \n",
       "...         ...               ...         ...                ...   \n",
       "1785   Politoed         Amoonguss   Excadrill  Thundurus-Therian   \n",
       "1786   Politoed          Gyarados     Jolteon         Ferrothorn   \n",
       "1787     Scizor          Togekiss   Hippowdon          Infernape   \n",
       "1788  Tyranitar          Garchomp     Heatran         Conkeldurr   \n",
       "1789  Tyranitar  Landorus-Therian    Slowking          Excadrill   \n",
       "\n",
       "             Pokemon 5   Pokemon 6  \n",
       "0             Bronzong   Reuniclus  \n",
       "1     Landorus-Therian   Excadrill  \n",
       "2              Heatran    Skarmory  \n",
       "3              Gliscor     Breloom  \n",
       "4           Ferrothorn     Jirachi  \n",
       "...                ...         ...  \n",
       "1785            Keldeo  Ferrothorn  \n",
       "1786           Haxorus     Umbreon  \n",
       "1787         Terrakion     Sableye  \n",
       "1788        Forretress   Jellicent  \n",
       "1789            Latios      Scizor  \n",
       "\n",
       "[1790 rows x 6 columns]"
      ]
     },
     "execution_count": 54,
     "metadata": {},
     "output_type": "execute_result"
    }
   ],
   "source": [
    "showdown_df = pd.read_csv('showdown.csv')\n",
    "pokemon_df = showdown_df.loc[:, ['Pokemon 1','Pokemon 2','Pokemon 3','Pokemon 4','Pokemon 5','Pokemon 6']]\n",
    "pokemon_df"
   ]
  },
  {
   "cell_type": "code",
   "execution_count": 55,
   "metadata": {},
   "outputs": [
    {
     "name": "stdout",
     "output_type": "stream",
     "text": [
      "Iteration 1\n",
      "Iteration 2\n",
      "Done clustering!\n",
      "Iteration 1\n",
      "Iteration 2\n",
      "Done clustering!\n",
      "Iteration 1\n",
      "Iteration 2\n",
      "Iteration 3\n",
      "Iteration 4\n",
      "Done clustering!\n",
      "Iteration 1\n",
      "Iteration 2\n",
      "Iteration 3\n",
      "Done clustering!\n",
      "Iteration 1\n",
      "Iteration 2\n",
      "Iteration 3\n",
      "Done clustering!\n",
      "Iteration 1\n",
      "Iteration 2\n",
      "Iteration 3\n",
      "Done clustering!\n",
      "Iteration 1\n",
      "Iteration 2\n",
      "Iteration 3\n",
      "Iteration 4\n",
      "Done clustering!\n",
      "Iteration 1\n",
      "Iteration 2\n",
      "Iteration 3\n",
      "Done clustering!\n",
      "Iteration 1\n",
      "Iteration 2\n",
      "Iteration 3\n",
      "Done clustering!\n",
      "Iteration 1\n",
      "Iteration 2\n",
      "Iteration 3\n",
      "Done clustering!\n"
     ]
    },
    {
     "data": {
      "text/plain": [
       "[{'Garchomp',\n",
       "  'Jirachi',\n",
       "  'Kyurem-Black',\n",
       "  'Landorus-Therian',\n",
       "  'Latios',\n",
       "  'Magnezone'},\n",
       " {'Garchomp', 'Heatran', 'Jellicent', 'Reuniclus', 'Skarmory', 'Tyranitar'},\n",
       " {'Breloom', 'Dragonite', 'Garchomp', 'Scizor', 'Starmie', 'Volcarona'},\n",
       " {'Excadrill', 'Infernape', 'Latios', 'Ninetales', 'Victini', 'Xatu'},\n",
       " {'Ferrothorn',\n",
       "  'Keldeo',\n",
       "  'Latios',\n",
       "  'Politoed',\n",
       "  'Tentacruel',\n",
       "  'Thundurus-Therian'},\n",
       " {'Gyarados', 'Haxorus', 'Lucario', 'Mamoswine', 'Mew', 'Uxie'},\n",
       " {'Forretress', 'Heatran', 'Latias', 'Roserade', 'Spiritomb', 'Vaporeon'},\n",
       " {'Crobat', 'Hitmontop', 'Nidoqueen', 'Umbreon', 'Venusaur', 'Weavile'},\n",
       " {'Abomasnow', 'Blissey', 'Forretress', 'Gliscor', 'Latios', 'Reuniclus'},\n",
       " {'Alakazam',\n",
       "  'Ferrothorn',\n",
       "  'Landorus-Therian',\n",
       "  'Latios',\n",
       "  'Rotom-Wash',\n",
       "  'Tyranitar'}]"
      ]
     },
     "execution_count": 55,
     "metadata": {},
     "output_type": "execute_result"
    },
    {
     "data": {
      "image/png": "[encoded data removed]",
      "text/plain": [
       "<Figure size 640x480 with 1 Axes>"
      ]
     },
     "metadata": {},
     "output_type": "display_data"
    }
   ],
   "source": [
    "WCSS = []\n",
    "for x in range(10):\n",
    "    kmeans_pkmn = KMeans(x + 1, 1790, pokemon_df)\n",
    "    groups = kmeans_pkmn.train(pokemon_df, 200)\n",
    "    WCSS.append(kmeans_pkmn.WCSS(pokemon_df, groups))\n",
    "pd.Series(WCSS).plot(kind='line')\n",
    "\n",
    "kmeans_pkmn.centroids"
   ]
  },
  {
   "cell_type": "code",
   "execution_count": 56,
   "metadata": {},
   "outputs": [
    {
     "name": "stdout",
     "output_type": "stream",
     "text": [
      "Iteration 1\n",
      "Iteration 2\n",
      "Iteration 3\n",
      "Iteration 4\n",
      "Done clustering!\n"
     ]
    },
    {
     "data": {
      "text/plain": [
       "1179.1216450216477"
      ]
     },
     "execution_count": 56,
     "metadata": {},
     "output_type": "execute_result"
    }
   ],
   "source": [
    "kmeans_pkmn = KMeans(8, 1790, pokemon_df)\n",
    "grps = kmeans_pkmn.train(pokemon_df, 300)\n",
    "kmeans_pkmn.WCSS(pokemon_df, grps)"
   ]
  },
  {
   "cell_type": "code",
   "execution_count": 57,
   "metadata": {},
   "outputs": [
    {
     "data": {
      "text/html": [
       "<div>\n",
       "<style scoped>\n",
       "    .dataframe tbody tr th:only-of-type {\n",
       "        vertical-align: middle;\n",
       "    }\n",
       "\n",
       "    .dataframe tbody tr th {\n",
       "        vertical-align: top;\n",
       "    }\n",
       "\n",
       "    .dataframe thead th {\n",
       "        text-align: right;\n",
       "    }\n",
       "</style>\n",
       "<table border=\"1\" class=\"dataframe\">\n",
       "  <thead>\n",
       "    <tr style=\"text-align: right;\">\n",
       "      <th></th>\n",
       "      <th>Pokemon 1</th>\n",
       "      <th>Pokemon 2</th>\n",
       "      <th>Pokemon 3</th>\n",
       "      <th>Pokemon 4</th>\n",
       "      <th>Pokemon 5</th>\n",
       "      <th>Pokemon 6</th>\n",
       "    </tr>\n",
       "  </thead>\n",
       "  <tbody>\n",
       "    <tr>\n",
       "      <th>1</th>\n",
       "      <td>Tyranitar</td>\n",
       "      <td>Alakazam</td>\n",
       "      <td>Latios</td>\n",
       "      <td>Ferrothorn</td>\n",
       "      <td>Landorus-Therian</td>\n",
       "      <td>Excadrill</td>\n",
       "    </tr>\n",
       "    <tr>\n",
       "      <th>10</th>\n",
       "      <td>Hippowdon</td>\n",
       "      <td>Ferrothorn</td>\n",
       "      <td>Jellicent</td>\n",
       "      <td>Latios</td>\n",
       "      <td>Garchomp</td>\n",
       "      <td>Scizor</td>\n",
       "    </tr>\n",
       "    <tr>\n",
       "      <th>14</th>\n",
       "      <td>Hippowdon</td>\n",
       "      <td>Ferrothorn</td>\n",
       "      <td>Jellicent</td>\n",
       "      <td>Latios</td>\n",
       "      <td>Garchomp</td>\n",
       "      <td>Scizor</td>\n",
       "    </tr>\n",
       "    <tr>\n",
       "      <th>17</th>\n",
       "      <td>Ninetales</td>\n",
       "      <td>Milotic</td>\n",
       "      <td>Togekiss</td>\n",
       "      <td>Zoroark</td>\n",
       "      <td>Garchomp</td>\n",
       "      <td>Glaceon</td>\n",
       "    </tr>\n",
       "    <tr>\n",
       "      <th>24</th>\n",
       "      <td>Breloom</td>\n",
       "      <td>Latios</td>\n",
       "      <td>Terrakion</td>\n",
       "      <td>Tyranitar</td>\n",
       "      <td>Keldeo</td>\n",
       "      <td>Scizor</td>\n",
       "    </tr>\n",
       "    <tr>\n",
       "      <th>...</th>\n",
       "      <td>...</td>\n",
       "      <td>...</td>\n",
       "      <td>...</td>\n",
       "      <td>...</td>\n",
       "      <td>...</td>\n",
       "      <td>...</td>\n",
       "    </tr>\n",
       "    <tr>\n",
       "      <th>1776</th>\n",
       "      <td>Togekiss</td>\n",
       "      <td>Latios</td>\n",
       "      <td>Jirachi</td>\n",
       "      <td>Infernape</td>\n",
       "      <td>Cloyster</td>\n",
       "      <td>Blissey</td>\n",
       "    </tr>\n",
       "    <tr>\n",
       "      <th>1778</th>\n",
       "      <td>Breloom</td>\n",
       "      <td>Politoed</td>\n",
       "      <td>Feraligatr</td>\n",
       "      <td>Tornadus</td>\n",
       "      <td>Excadrill</td>\n",
       "      <td>Jirachi</td>\n",
       "    </tr>\n",
       "    <tr>\n",
       "      <th>1780</th>\n",
       "      <td>Garchomp</td>\n",
       "      <td>Latias</td>\n",
       "      <td>Scizor</td>\n",
       "      <td>Rotom-Wash</td>\n",
       "      <td>Tyranitar</td>\n",
       "      <td>Keldeo</td>\n",
       "    </tr>\n",
       "    <tr>\n",
       "      <th>1783</th>\n",
       "      <td>Excadrill</td>\n",
       "      <td>Amoonguss</td>\n",
       "      <td>Heatran</td>\n",
       "      <td>Latios</td>\n",
       "      <td>Breloom</td>\n",
       "      <td>Weavile</td>\n",
       "    </tr>\n",
       "    <tr>\n",
       "      <th>1789</th>\n",
       "      <td>Tyranitar</td>\n",
       "      <td>Landorus-Therian</td>\n",
       "      <td>Slowking</td>\n",
       "      <td>Excadrill</td>\n",
       "      <td>Latios</td>\n",
       "      <td>Scizor</td>\n",
       "    </tr>\n",
       "  </tbody>\n",
       "</table>\n",
       "<p>582 rows × 6 columns</p>\n",
       "</div>"
      ],
      "text/plain": [
       "      Pokemon 1         Pokemon 2   Pokemon 3   Pokemon 4         Pokemon 5  \\\n",
       "1     Tyranitar          Alakazam      Latios  Ferrothorn  Landorus-Therian   \n",
       "10    Hippowdon        Ferrothorn   Jellicent      Latios          Garchomp   \n",
       "14    Hippowdon        Ferrothorn   Jellicent      Latios          Garchomp   \n",
       "17    Ninetales           Milotic    Togekiss     Zoroark          Garchomp   \n",
       "24      Breloom            Latios   Terrakion   Tyranitar            Keldeo   \n",
       "...         ...               ...         ...         ...               ...   \n",
       "1776   Togekiss            Latios     Jirachi   Infernape          Cloyster   \n",
       "1778    Breloom          Politoed  Feraligatr    Tornadus         Excadrill   \n",
       "1780   Garchomp            Latias      Scizor  Rotom-Wash         Tyranitar   \n",
       "1783  Excadrill         Amoonguss     Heatran      Latios           Breloom   \n",
       "1789  Tyranitar  Landorus-Therian    Slowking   Excadrill            Latios   \n",
       "\n",
       "      Pokemon 6  \n",
       "1     Excadrill  \n",
       "10       Scizor  \n",
       "14       Scizor  \n",
       "17      Glaceon  \n",
       "24       Scizor  \n",
       "...         ...  \n",
       "1776    Blissey  \n",
       "1778    Jirachi  \n",
       "1780     Keldeo  \n",
       "1783    Weavile  \n",
       "1789     Scizor  \n",
       "\n",
       "[582 rows x 6 columns]"
      ]
     },
     "execution_count": 57,
     "metadata": {},
     "output_type": "execute_result"
    }
   ],
   "source": [
    "filtered_dataset = pokemon_df[kmeans_pkmn.group_observations() == 0]\n",
    "filtered_dataset"
   ]
  },
  {
   "cell_type": "code",
   "execution_count": 58,
   "metadata": {},
   "outputs": [
    {
     "data": {
      "text/plain": [
       "[{'Garchomp',\n",
       "  'Jirachi',\n",
       "  'Landorus-Therian',\n",
       "  'Latios',\n",
       "  'Rotom-Wash',\n",
       "  'Tyranitar'},\n",
       " {'Alakazam',\n",
       "  'Heatran',\n",
       "  'Landorus-Therian',\n",
       "  'Rotom-Wash',\n",
       "  'Skarmory',\n",
       "  'Tyranitar'},\n",
       " {'Breloom', 'Dragonite', 'Garchomp', 'Scizor', 'Starmie', 'Volcarona'},\n",
       " {'Ferrothorn',\n",
       "  'Keldeo',\n",
       "  'Latios',\n",
       "  'Politoed',\n",
       "  'Tentacruel',\n",
       "  'Thundurus-Therian'},\n",
       " {'Gyarados', 'Haxorus', 'Lucario', 'Mamoswine', 'Mew', 'Uxie'},\n",
       " {'Blissey', 'Forretress', 'Gliscor', 'Jellicent', 'Tyranitar', 'Xatu'},\n",
       " {'Arcanine', 'Flygon', 'Hitmontop', 'Omastar', 'Tentacruel', 'Zapdos'},\n",
       " {'Dragonite', 'Garchomp', 'Jirachi', 'Kyurem-Black', 'Latios', 'Magnezone'}]"
      ]
     },
     "execution_count": 58,
     "metadata": {},
     "output_type": "execute_result"
    }
   ],
   "source": [
    "kmeans_pkmn.centroids"
   ]
  },
  {
   "cell_type": "code",
   "execution_count": null,
   "metadata": {},
   "outputs": [],
   "source": []
  }
 ],
 "metadata": {
  "kernelspec": {
   "display_name": "Python 3",
   "language": "python",
   "name": "python3"
  },
  "language_info": {
   "codemirror_mode": {
    "name": "ipython",
    "version": 3
   },
   "file_extension": ".py",
   "mimetype": "text/x-python",
   "name": "python",
   "nbconvert_exporter": "python",
   "pygments_lexer": "ipython3",
   "version": "3.13.5"
  }
 },
 "nbformat": 4,
 "nbformat_minor": 4
}
