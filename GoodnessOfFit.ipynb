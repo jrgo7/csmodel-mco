{
 "cells": [
  {
   "cell_type": "code",
   "execution_count": 226,
   "id": "8b8382aa",
   "metadata": {},
   "outputs": [],
   "source": [
    "# Checkpoint to begin loading the Showdown data set\n",
    "\n",
    "import pandas as pd\n",
    "import numpy as np\n",
    "import seaborn as sns\n",
    "import matplotlib.pyplot as plt\n",
    "from scipy import stats as sp\n",
    "\n",
    "gen5_types_df = pd.read_csv(\"./dataset/pokemon-fandom/pokemon_gen5_types_fixed.csv\")\n",
    "gen5_stats_df = pd.read_csv(r\"dataset/bulbagarden/pokemon_gen5_stats.csv\")\n",
    "pokemon_counts_df = pd.read_csv(\"./dataset/showdown/showdown_2players.csv\")\n",
    "unique_pokemons_df = pd.read_csv(\"unique_pokemons.csv\")\n",
    "gen5ou_usage_latest = pd.read_csv(\"./dataset/smogon/2025-06-gen5ou-0.csv\")"
   ]
  },
  {
   "cell_type": "code",
   "execution_count": 227,
   "id": "44099144",
   "metadata": {},
   "outputs": [],
   "source": [
    "gen5ou_usage_latest.drop(\"Rank\", axis=1, inplace=True)"
   ]
  },
  {
   "cell_type": "markdown",
   "id": "337811c5",
   "metadata": {},
   "source": [
    "Turn Pokemon List sorted by usage, then take Usage%. Use this instead of getting the percentage of each Pokemon to maintain information on Pokemon not recorded by the data.\n",
    "\n",
    "Suppose a Pokemon is used 27.56% of the time out of all Pokemon, including those not recorded in the database (Around 1.321% out of 600% since there are 6 Pokemon, or 0.22%). By doing this approach, the 27.56% does not get scaled upwards."
   ]
  },
  {
   "cell_type": "code",
   "execution_count": 228,
   "id": "c4003d84",
   "metadata": {},
   "outputs": [
    {
     "name": "stdout",
     "output_type": "stream",
     "text": [
      "598.67911\n"
     ]
    },
    {
     "data": {
      "text/plain": [
       "np.float64(0.22014833333332717)"
      ]
     },
     "execution_count": 228,
     "metadata": {},
     "output_type": "execute_result"
    }
   ],
   "source": [
    "pokemon_usage_expected_perc = gen5ou_usage_latest.drop([\"Raw\", \"%\", \"Real\", \"%.1\"], axis=1)\n",
    "pokemon_usage_expected_perc\n",
    "print(pokemon_usage_expected_perc[\"Usage%\"].str.rstrip(\"%\").astype(float).sum())\n",
    "(600 - pokemon_usage_expected_perc[\"Usage%\"].str.rstrip(\"%\").astype(float).sum()) / 6"
   ]
  },
  {
   "cell_type": "code",
   "execution_count": 229,
   "id": "6439fdeb",
   "metadata": {},
   "outputs": [
    {
     "data": {
      "text/plain": [
       "0.010022063405552934"
      ]
     },
     "execution_count": 229,
     "metadata": {},
     "output_type": "execute_result"
    }
   ],
   "source": [
    "6/ 598.67911"
   ]
  },
  {
   "cell_type": "markdown",
   "id": "f681b4c7",
   "metadata": {},
   "source": [
    "Pre-processing for Showdown data. Count all the Pokemon in the dataframe, then convert to a dataframe."
   ]
  },
  {
   "cell_type": "code",
   "execution_count": 230,
   "id": "6e9c9c71",
   "metadata": {},
   "outputs": [
    {
     "data": {
      "text/html": [
       "<div>\n",
       "<style scoped>\n",
       "    .dataframe tbody tr th:only-of-type {\n",
       "        vertical-align: middle;\n",
       "    }\n",
       "\n",
       "    .dataframe tbody tr th {\n",
       "        vertical-align: top;\n",
       "    }\n",
       "\n",
       "    .dataframe thead th {\n",
       "        text-align: right;\n",
       "    }\n",
       "</style>\n",
       "<table border=\"1\" class=\"dataframe\">\n",
       "  <thead>\n",
       "    <tr style=\"text-align: right;\">\n",
       "      <th></th>\n",
       "      <th>Pokemon</th>\n",
       "      <th>Observed</th>\n",
       "    </tr>\n",
       "  </thead>\n",
       "  <tbody>\n",
       "    <tr>\n",
       "      <th>0</th>\n",
       "      <td>Latios</td>\n",
       "      <td>3554</td>\n",
       "    </tr>\n",
       "    <tr>\n",
       "      <th>1</th>\n",
       "      <td>Tyranitar</td>\n",
       "      <td>3110</td>\n",
       "    </tr>\n",
       "    <tr>\n",
       "      <th>2</th>\n",
       "      <td>Ferrothorn</td>\n",
       "      <td>2817</td>\n",
       "    </tr>\n",
       "    <tr>\n",
       "      <th>3</th>\n",
       "      <td>Landorus-Therian</td>\n",
       "      <td>2571</td>\n",
       "    </tr>\n",
       "    <tr>\n",
       "      <th>4</th>\n",
       "      <td>Garchomp</td>\n",
       "      <td>2403</td>\n",
       "    </tr>\n",
       "    <tr>\n",
       "      <th>...</th>\n",
       "      <td>...</td>\n",
       "      <td>...</td>\n",
       "    </tr>\n",
       "    <tr>\n",
       "      <th>251</th>\n",
       "      <td>Cacturne</td>\n",
       "      <td>1</td>\n",
       "    </tr>\n",
       "    <tr>\n",
       "      <th>252</th>\n",
       "      <td>Kangaskhan</td>\n",
       "      <td>1</td>\n",
       "    </tr>\n",
       "    <tr>\n",
       "      <th>253</th>\n",
       "      <td>Swellow</td>\n",
       "      <td>1</td>\n",
       "    </tr>\n",
       "    <tr>\n",
       "      <th>254</th>\n",
       "      <td>Kingler</td>\n",
       "      <td>1</td>\n",
       "    </tr>\n",
       "    <tr>\n",
       "      <th>255</th>\n",
       "      <td>Spinda</td>\n",
       "      <td>1</td>\n",
       "    </tr>\n",
       "  </tbody>\n",
       "</table>\n",
       "<p>256 rows × 2 columns</p>\n",
       "</div>"
      ],
      "text/plain": [
       "              Pokemon  Observed\n",
       "0              Latios      3554\n",
       "1           Tyranitar      3110\n",
       "2          Ferrothorn      2817\n",
       "3    Landorus-Therian      2571\n",
       "4            Garchomp      2403\n",
       "..                ...       ...\n",
       "251          Cacturne         1\n",
       "252        Kangaskhan         1\n",
       "253           Swellow         1\n",
       "254           Kingler         1\n",
       "255            Spinda         1\n",
       "\n",
       "[256 rows x 2 columns]"
      ]
     },
     "execution_count": 230,
     "metadata": {},
     "output_type": "execute_result"
    }
   ],
   "source": [
    "showdown_pokemon = pd.concat([pokemon_counts_df[\"Player \" + str(m) + \" Pokemon \" + str(n)] for m in range(1, 3) for n in range(1, 7)], ignore_index=True)\n",
    "showdown_pokemon.value_counts()\n",
    "# Convert to DataFrame\n",
    "df_counts = showdown_pokemon.value_counts().reset_index()\n",
    "\n",
    "# Rename columns for clarity\n",
    "df_counts.columns = ['Pokemon', 'Observed']\n",
    "df_counts\n"
   ]
  },
  {
   "cell_type": "code",
   "execution_count": null,
   "id": "ed68185c",
   "metadata": {},
   "outputs": [
    {
     "name": "stdout",
     "output_type": "stream",
     "text": [
      "598.67911\n"
     ]
    },
    {
     "data": {
      "text/plain": [
       "np.float64(596.2374000000001)"
      ]
     },
     "execution_count": 231,
     "metadata": {},
     "output_type": "execute_result"
    }
   ],
   "source": [
    "merged_perc = pd.merge(df_counts, pokemon_usage_expected_perc, left_index=True, right_index=True, how='outer')\n",
    "\n",
    "merged_perc = merged_perc.fillna(0)\n",
    "\n",
    "merged_perc[\"Usage%\"] = merged_perc[\"Usage%\"].str.rstrip(\"%\").astype(float)\n",
    "sum = merged_perc[\"Usage%\"].sum()\n",
    "merged_perc = merged_perc[merged_perc[\"Usage%\"] >= 0.049889925833333335]\n",
    "print(sum)\n",
    "merged_perc[\"Usage%\"].sum()"
   ]
  },
  {
   "cell_type": "markdown",
   "id": "e1ffc334",
   "metadata": {},
   "source": [
    "Outer Join so that Pokemon that are in the Smogon database (expected) can show up even if the replays gathered do not end up recording a player using said Pokemon."
   ]
  },
  {
   "cell_type": "markdown",
   "id": "ba5d646a",
   "metadata": {},
   "source": [
    "Since there are 5000 recorded battles, each player using 6 Pokemon would lead to 60000 Pokemon total, (with 1 Pokemon being able to be used a maximum of 2 times in any given match).\n",
    "\n",
    "A requirement of Chi-Square test is that each observation should be independent of other observations, which is fulfilled by each Pokemon being able to be used by each individual player. The second requirement of Chi-Square test is that each expected count should be at least 5.\n",
    "\n",
    "With this in mind, any Pokemon with expected uses less than 5 uses should be removed.\n",
    "\n",
    "A caveat is that since the expected Pokemon values is missing 0.22% of its data, the cut-off value has to be calculated by first, normalizing the usage percent of each pokemon to total 100% instead of 600%, then multiplied to the sum of the expected values after all the Pokemon with less than 5 expected uses is removed."
   ]
  },
  {
   "cell_type": "code",
   "execution_count": 232,
   "id": "3c8034b4",
   "metadata": {},
   "outputs": [
    {
     "data": {
      "text/plain": [
       "np.int64(60000)"
      ]
     },
     "execution_count": 232,
     "metadata": {},
     "output_type": "execute_result"
    }
   ],
   "source": [
    "df_counts[\"Observed\"].sum()"
   ]
  },
  {
   "cell_type": "code",
   "execution_count": 233,
   "id": "f004f8e7",
   "metadata": {},
   "outputs": [
    {
     "data": {
      "text/plain": [
       "np.float64(0.049889925833333335)"
      ]
     },
     "execution_count": 233,
     "metadata": {},
     "output_type": "execute_result"
    }
   ],
   "source": [
    "5 * sum / 60000"
   ]
  },
  {
   "cell_type": "code",
   "execution_count": 234,
   "id": "7d62d7e3",
   "metadata": {},
   "outputs": [
    {
     "data": {
      "text/plain": [
       "np.float64(0.9999999999999997)"
      ]
     },
     "execution_count": 234,
     "metadata": {},
     "output_type": "execute_result"
    }
   ],
   "source": [
    "merged_perc[\"Usage%\"] = merged_perc[\"Usage%\"] / 596.2374000000001\n",
    "merged_perc[\"Usage%\"].sum()"
   ]
  },
  {
   "cell_type": "code",
   "execution_count": 235,
   "id": "dce570c7",
   "metadata": {},
   "outputs": [
    {
     "data": {
      "text/plain": [
       "8.333333333333333e-05"
      ]
     },
     "execution_count": 235,
     "metadata": {},
     "output_type": "execute_result"
    }
   ],
   "source": [
    "5 / 60000"
   ]
  },
  {
   "cell_type": "code",
   "execution_count": 236,
   "id": "d973d4f3",
   "metadata": {},
   "outputs": [
    {
     "data": {
      "text/html": [
       "<div>\n",
       "<style scoped>\n",
       "    .dataframe tbody tr th:only-of-type {\n",
       "        vertical-align: middle;\n",
       "    }\n",
       "\n",
       "    .dataframe tbody tr th {\n",
       "        vertical-align: top;\n",
       "    }\n",
       "\n",
       "    .dataframe thead th {\n",
       "        text-align: right;\n",
       "    }\n",
       "</style>\n",
       "<table border=\"1\" class=\"dataframe\">\n",
       "  <thead>\n",
       "    <tr style=\"text-align: right;\">\n",
       "      <th></th>\n",
       "      <th>Pokemon_x</th>\n",
       "      <th>Observed</th>\n",
       "      <th>Pokemon_y</th>\n",
       "      <th>Usage%</th>\n",
       "      <th>Expected</th>\n",
       "    </tr>\n",
       "  </thead>\n",
       "  <tbody>\n",
       "    <tr>\n",
       "      <th>0</th>\n",
       "      <td>Latios</td>\n",
       "      <td>3554.0</td>\n",
       "      <td>Latios</td>\n",
       "      <td>0.046233</td>\n",
       "      <td>2774.000759</td>\n",
       "    </tr>\n",
       "    <tr>\n",
       "      <th>1</th>\n",
       "      <td>Tyranitar</td>\n",
       "      <td>3110.0</td>\n",
       "      <td>Tyranitar</td>\n",
       "      <td>0.043967</td>\n",
       "      <td>2638.003923</td>\n",
       "    </tr>\n",
       "    <tr>\n",
       "      <th>2</th>\n",
       "      <td>Ferrothorn</td>\n",
       "      <td>2817.0</td>\n",
       "      <td>Ferrothorn</td>\n",
       "      <td>0.042344</td>\n",
       "      <td>2540.652431</td>\n",
       "    </tr>\n",
       "    <tr>\n",
       "      <th>3</th>\n",
       "      <td>Landorus-Therian</td>\n",
       "      <td>2571.0</td>\n",
       "      <td>Starmie</td>\n",
       "      <td>0.040848</td>\n",
       "      <td>2450.894560</td>\n",
       "    </tr>\n",
       "    <tr>\n",
       "      <th>4</th>\n",
       "      <td>Garchomp</td>\n",
       "      <td>2403.0</td>\n",
       "      <td>Garchomp</td>\n",
       "      <td>0.039469</td>\n",
       "      <td>2368.162749</td>\n",
       "    </tr>\n",
       "    <tr>\n",
       "      <th>...</th>\n",
       "      <td>...</td>\n",
       "      <td>...</td>\n",
       "      <td>...</td>\n",
       "      <td>...</td>\n",
       "      <td>...</td>\n",
       "    </tr>\n",
       "    <tr>\n",
       "      <th>270</th>\n",
       "      <td>0</td>\n",
       "      <td>0.0</td>\n",
       "      <td>Linoone</td>\n",
       "      <td>0.000089</td>\n",
       "      <td>5.326402</td>\n",
       "    </tr>\n",
       "    <tr>\n",
       "      <th>271</th>\n",
       "      <td>0</td>\n",
       "      <td>0.0</td>\n",
       "      <td>Whiscash</td>\n",
       "      <td>0.000087</td>\n",
       "      <td>5.213695</td>\n",
       "    </tr>\n",
       "    <tr>\n",
       "      <th>272</th>\n",
       "      <td>0</td>\n",
       "      <td>0.0</td>\n",
       "      <td>Meganium</td>\n",
       "      <td>0.000085</td>\n",
       "      <td>5.099982</td>\n",
       "    </tr>\n",
       "    <tr>\n",
       "      <th>273</th>\n",
       "      <td>0</td>\n",
       "      <td>0.0</td>\n",
       "      <td>Granbull</td>\n",
       "      <td>0.000085</td>\n",
       "      <td>5.099982</td>\n",
       "    </tr>\n",
       "    <tr>\n",
       "      <th>274</th>\n",
       "      <td>0</td>\n",
       "      <td>0.0</td>\n",
       "      <td>Grovyle</td>\n",
       "      <td>0.000085</td>\n",
       "      <td>5.099982</td>\n",
       "    </tr>\n",
       "  </tbody>\n",
       "</table>\n",
       "<p>275 rows × 5 columns</p>\n",
       "</div>"
      ],
      "text/plain": [
       "            Pokemon_x  Observed   Pokemon_y    Usage%     Expected\n",
       "0              Latios    3554.0      Latios  0.046233  2774.000759\n",
       "1           Tyranitar    3110.0   Tyranitar  0.043967  2638.003923\n",
       "2          Ferrothorn    2817.0  Ferrothorn  0.042344  2540.652431\n",
       "3    Landorus-Therian    2571.0     Starmie  0.040848  2450.894560\n",
       "4            Garchomp    2403.0    Garchomp  0.039469  2368.162749\n",
       "..                ...       ...         ...       ...          ...\n",
       "270                 0       0.0     Linoone  0.000089     5.326402\n",
       "271                 0       0.0    Whiscash  0.000087     5.213695\n",
       "272                 0       0.0    Meganium  0.000085     5.099982\n",
       "273                 0       0.0    Granbull  0.000085     5.099982\n",
       "274                 0       0.0     Grovyle  0.000085     5.099982\n",
       "\n",
       "[275 rows x 5 columns]"
      ]
     },
     "execution_count": 236,
     "metadata": {},
     "output_type": "execute_result"
    }
   ],
   "source": [
    "merged_perc = merged_perc[merged_perc[\"Usage%\"] > 0]\n",
    "sum = merged_perc[\"Observed\"].sum()\n",
    "merged_perc[\"Expected\"] = sum * merged_perc[\"Usage%\"]\n",
    "merged_perc = merged_perc[merged_perc[\"Expected\"] > 5]\n",
    "merged_perc\n"
   ]
  },
  {
   "cell_type": "code",
   "execution_count": 237,
   "id": "676113c8",
   "metadata": {},
   "outputs": [
    {
     "data": {
      "text/html": [
       "<div>\n",
       "<style scoped>\n",
       "    .dataframe tbody tr th:only-of-type {\n",
       "        vertical-align: middle;\n",
       "    }\n",
       "\n",
       "    .dataframe tbody tr th {\n",
       "        vertical-align: top;\n",
       "    }\n",
       "\n",
       "    .dataframe thead th {\n",
       "        text-align: right;\n",
       "    }\n",
       "</style>\n",
       "<table border=\"1\" class=\"dataframe\">\n",
       "  <thead>\n",
       "    <tr style=\"text-align: right;\">\n",
       "      <th></th>\n",
       "      <th>Pokemon_x</th>\n",
       "      <th>Observed</th>\n",
       "      <th>Pokemon_y</th>\n",
       "      <th>Usage%</th>\n",
       "      <th>Expected</th>\n",
       "      <th>ChiVal</th>\n",
       "    </tr>\n",
       "  </thead>\n",
       "  <tbody>\n",
       "    <tr>\n",
       "      <th>0</th>\n",
       "      <td>Latios</td>\n",
       "      <td>3554.0</td>\n",
       "      <td>Latios</td>\n",
       "      <td>0.046233</td>\n",
       "      <td>2774.000759</td>\n",
       "      <td>219.321792</td>\n",
       "    </tr>\n",
       "    <tr>\n",
       "      <th>1</th>\n",
       "      <td>Tyranitar</td>\n",
       "      <td>3110.0</td>\n",
       "      <td>Tyranitar</td>\n",
       "      <td>0.043967</td>\n",
       "      <td>2638.003923</td>\n",
       "      <td>84.450328</td>\n",
       "    </tr>\n",
       "    <tr>\n",
       "      <th>2</th>\n",
       "      <td>Ferrothorn</td>\n",
       "      <td>2817.0</td>\n",
       "      <td>Ferrothorn</td>\n",
       "      <td>0.042344</td>\n",
       "      <td>2540.652431</td>\n",
       "      <td>30.058412</td>\n",
       "    </tr>\n",
       "    <tr>\n",
       "      <th>3</th>\n",
       "      <td>Landorus-Therian</td>\n",
       "      <td>2571.0</td>\n",
       "      <td>Starmie</td>\n",
       "      <td>0.040848</td>\n",
       "      <td>2450.894560</td>\n",
       "      <td>5.885735</td>\n",
       "    </tr>\n",
       "    <tr>\n",
       "      <th>4</th>\n",
       "      <td>Garchomp</td>\n",
       "      <td>2403.0</td>\n",
       "      <td>Garchomp</td>\n",
       "      <td>0.039469</td>\n",
       "      <td>2368.162749</td>\n",
       "      <td>0.512479</td>\n",
       "    </tr>\n",
       "    <tr>\n",
       "      <th>...</th>\n",
       "      <td>...</td>\n",
       "      <td>...</td>\n",
       "      <td>...</td>\n",
       "      <td>...</td>\n",
       "      <td>...</td>\n",
       "      <td>...</td>\n",
       "    </tr>\n",
       "    <tr>\n",
       "      <th>270</th>\n",
       "      <td>0</td>\n",
       "      <td>0.0</td>\n",
       "      <td>Linoone</td>\n",
       "      <td>0.000089</td>\n",
       "      <td>5.326402</td>\n",
       "      <td>5.326402</td>\n",
       "    </tr>\n",
       "    <tr>\n",
       "      <th>271</th>\n",
       "      <td>0</td>\n",
       "      <td>0.0</td>\n",
       "      <td>Whiscash</td>\n",
       "      <td>0.000087</td>\n",
       "      <td>5.213695</td>\n",
       "      <td>5.213695</td>\n",
       "    </tr>\n",
       "    <tr>\n",
       "      <th>272</th>\n",
       "      <td>0</td>\n",
       "      <td>0.0</td>\n",
       "      <td>Meganium</td>\n",
       "      <td>0.000085</td>\n",
       "      <td>5.099982</td>\n",
       "      <td>5.099982</td>\n",
       "    </tr>\n",
       "    <tr>\n",
       "      <th>273</th>\n",
       "      <td>0</td>\n",
       "      <td>0.0</td>\n",
       "      <td>Granbull</td>\n",
       "      <td>0.000085</td>\n",
       "      <td>5.099982</td>\n",
       "      <td>5.099982</td>\n",
       "    </tr>\n",
       "    <tr>\n",
       "      <th>274</th>\n",
       "      <td>0</td>\n",
       "      <td>0.0</td>\n",
       "      <td>Grovyle</td>\n",
       "      <td>0.000085</td>\n",
       "      <td>5.099982</td>\n",
       "      <td>5.099982</td>\n",
       "    </tr>\n",
       "  </tbody>\n",
       "</table>\n",
       "<p>275 rows × 6 columns</p>\n",
       "</div>"
      ],
      "text/plain": [
       "            Pokemon_x  Observed   Pokemon_y    Usage%     Expected      ChiVal\n",
       "0              Latios    3554.0      Latios  0.046233  2774.000759  219.321792\n",
       "1           Tyranitar    3110.0   Tyranitar  0.043967  2638.003923   84.450328\n",
       "2          Ferrothorn    2817.0  Ferrothorn  0.042344  2540.652431   30.058412\n",
       "3    Landorus-Therian    2571.0     Starmie  0.040848  2450.894560    5.885735\n",
       "4            Garchomp    2403.0    Garchomp  0.039469  2368.162749    0.512479\n",
       "..                ...       ...         ...       ...          ...         ...\n",
       "270                 0       0.0     Linoone  0.000089     5.326402    5.326402\n",
       "271                 0       0.0    Whiscash  0.000087     5.213695    5.213695\n",
       "272                 0       0.0    Meganium  0.000085     5.099982    5.099982\n",
       "273                 0       0.0    Granbull  0.000085     5.099982    5.099982\n",
       "274                 0       0.0     Grovyle  0.000085     5.099982    5.099982\n",
       "\n",
       "[275 rows x 6 columns]"
      ]
     },
     "execution_count": 237,
     "metadata": {},
     "output_type": "execute_result"
    }
   ],
   "source": [
    "merged_perc[\"ChiVal\"] = (merged_perc[\"Observed\"] - merged_perc[\"Expected\"]) ** 2 / merged_perc[\"Expected\"]\n",
    "merged_perc"
   ]
  },
  {
   "cell_type": "code",
   "execution_count": 238,
   "id": "49e4d675",
   "metadata": {},
   "outputs": [
    {
     "name": "stdout",
     "output_type": "stream",
     "text": [
      "Chi-square statistic: 3340.798475564692\n",
      "p-value: 0.0\n"
     ]
    }
   ],
   "source": [
    "chi2_stat, p_val = sp.chisquare(f_obs=merged_perc[\"Observed\"], f_exp=merged_perc[\"Expected\"])\n",
    "\n",
    "print(\"Chi-square statistic:\", chi2_stat)\n",
    "print(\"p-value:\", p_val)"
   ]
  },
  {
   "cell_type": "code",
   "execution_count": 248,
   "id": "f138060e",
   "metadata": {},
   "outputs": [
    {
     "data": {
      "text/html": [
       "<div>\n",
       "<style scoped>\n",
       "    .dataframe tbody tr th:only-of-type {\n",
       "        vertical-align: middle;\n",
       "    }\n",
       "\n",
       "    .dataframe tbody tr th {\n",
       "        vertical-align: top;\n",
       "    }\n",
       "\n",
       "    .dataframe thead th {\n",
       "        text-align: right;\n",
       "    }\n",
       "</style>\n",
       "<table border=\"1\" class=\"dataframe\">\n",
       "  <thead>\n",
       "    <tr style=\"text-align: right;\">\n",
       "      <th></th>\n",
       "      <th>Pokemon_x</th>\n",
       "      <th>Observed</th>\n",
       "      <th>Pokemon_y</th>\n",
       "      <th>Usage%</th>\n",
       "      <th>Expected</th>\n",
       "      <th>ChiVal</th>\n",
       "      <th>Difference</th>\n",
       "    </tr>\n",
       "  </thead>\n",
       "  <tbody>\n",
       "    <tr>\n",
       "      <th>0</th>\n",
       "      <td>Latios</td>\n",
       "      <td>3554.0</td>\n",
       "      <td>Latios</td>\n",
       "      <td>0.046233</td>\n",
       "      <td>2774.000759</td>\n",
       "      <td>219.321792</td>\n",
       "      <td>779.999241</td>\n",
       "    </tr>\n",
       "    <tr>\n",
       "      <th>1</th>\n",
       "      <td>Tyranitar</td>\n",
       "      <td>3110.0</td>\n",
       "      <td>Tyranitar</td>\n",
       "      <td>0.043967</td>\n",
       "      <td>2638.003923</td>\n",
       "      <td>84.450328</td>\n",
       "      <td>471.996077</td>\n",
       "    </tr>\n",
       "    <tr>\n",
       "      <th>2</th>\n",
       "      <td>Ferrothorn</td>\n",
       "      <td>2817.0</td>\n",
       "      <td>Ferrothorn</td>\n",
       "      <td>0.042344</td>\n",
       "      <td>2540.652431</td>\n",
       "      <td>30.058412</td>\n",
       "      <td>276.347569</td>\n",
       "    </tr>\n",
       "    <tr>\n",
       "      <th>3</th>\n",
       "      <td>Landorus-Therian</td>\n",
       "      <td>2571.0</td>\n",
       "      <td>Starmie</td>\n",
       "      <td>0.040848</td>\n",
       "      <td>2450.894560</td>\n",
       "      <td>5.885735</td>\n",
       "      <td>120.105440</td>\n",
       "    </tr>\n",
       "    <tr>\n",
       "      <th>4</th>\n",
       "      <td>Garchomp</td>\n",
       "      <td>2403.0</td>\n",
       "      <td>Garchomp</td>\n",
       "      <td>0.039469</td>\n",
       "      <td>2368.162749</td>\n",
       "      <td>0.512479</td>\n",
       "      <td>34.837251</td>\n",
       "    </tr>\n",
       "    <tr>\n",
       "      <th>...</th>\n",
       "      <td>...</td>\n",
       "      <td>...</td>\n",
       "      <td>...</td>\n",
       "      <td>...</td>\n",
       "      <td>...</td>\n",
       "      <td>...</td>\n",
       "      <td>...</td>\n",
       "    </tr>\n",
       "    <tr>\n",
       "      <th>270</th>\n",
       "      <td>0</td>\n",
       "      <td>0.0</td>\n",
       "      <td>Linoone</td>\n",
       "      <td>0.000089</td>\n",
       "      <td>5.326402</td>\n",
       "      <td>5.326402</td>\n",
       "      <td>-5.326402</td>\n",
       "    </tr>\n",
       "    <tr>\n",
       "      <th>271</th>\n",
       "      <td>0</td>\n",
       "      <td>0.0</td>\n",
       "      <td>Whiscash</td>\n",
       "      <td>0.000087</td>\n",
       "      <td>5.213695</td>\n",
       "      <td>5.213695</td>\n",
       "      <td>-5.213695</td>\n",
       "    </tr>\n",
       "    <tr>\n",
       "      <th>272</th>\n",
       "      <td>0</td>\n",
       "      <td>0.0</td>\n",
       "      <td>Meganium</td>\n",
       "      <td>0.000085</td>\n",
       "      <td>5.099982</td>\n",
       "      <td>5.099982</td>\n",
       "      <td>-5.099982</td>\n",
       "    </tr>\n",
       "    <tr>\n",
       "      <th>273</th>\n",
       "      <td>0</td>\n",
       "      <td>0.0</td>\n",
       "      <td>Granbull</td>\n",
       "      <td>0.000085</td>\n",
       "      <td>5.099982</td>\n",
       "      <td>5.099982</td>\n",
       "      <td>-5.099982</td>\n",
       "    </tr>\n",
       "    <tr>\n",
       "      <th>274</th>\n",
       "      <td>0</td>\n",
       "      <td>0.0</td>\n",
       "      <td>Grovyle</td>\n",
       "      <td>0.000085</td>\n",
       "      <td>5.099982</td>\n",
       "      <td>5.099982</td>\n",
       "      <td>-5.099982</td>\n",
       "    </tr>\n",
       "  </tbody>\n",
       "</table>\n",
       "<p>275 rows × 7 columns</p>\n",
       "</div>"
      ],
      "text/plain": [
       "            Pokemon_x  Observed   Pokemon_y    Usage%     Expected  \\\n",
       "0              Latios    3554.0      Latios  0.046233  2774.000759   \n",
       "1           Tyranitar    3110.0   Tyranitar  0.043967  2638.003923   \n",
       "2          Ferrothorn    2817.0  Ferrothorn  0.042344  2540.652431   \n",
       "3    Landorus-Therian    2571.0     Starmie  0.040848  2450.894560   \n",
       "4            Garchomp    2403.0    Garchomp  0.039469  2368.162749   \n",
       "..                ...       ...         ...       ...          ...   \n",
       "270                 0       0.0     Linoone  0.000089     5.326402   \n",
       "271                 0       0.0    Whiscash  0.000087     5.213695   \n",
       "272                 0       0.0    Meganium  0.000085     5.099982   \n",
       "273                 0       0.0    Granbull  0.000085     5.099982   \n",
       "274                 0       0.0     Grovyle  0.000085     5.099982   \n",
       "\n",
       "         ChiVal  Difference  \n",
       "0    219.321792  779.999241  \n",
       "1     84.450328  471.996077  \n",
       "2     30.058412  276.347569  \n",
       "3      5.885735  120.105440  \n",
       "4      0.512479   34.837251  \n",
       "..          ...         ...  \n",
       "270    5.326402   -5.326402  \n",
       "271    5.213695   -5.213695  \n",
       "272    5.099982   -5.099982  \n",
       "273    5.099982   -5.099982  \n",
       "274    5.099982   -5.099982  \n",
       "\n",
       "[275 rows x 7 columns]"
      ]
     },
     "execution_count": 248,
     "metadata": {},
     "output_type": "execute_result"
    }
   ],
   "source": [
    "merged_perc[\"Difference\"] = merged_perc[\"Observed\"] - merged_perc[\"Expected\"]\n",
    "merged_perc"
   ]
  },
  {
   "cell_type": "code",
   "execution_count": 254,
   "id": "b9923f1c",
   "metadata": {},
   "outputs": [
    {
     "data": {
      "text/html": [
       "<div>\n",
       "<style scoped>\n",
       "    .dataframe tbody tr th:only-of-type {\n",
       "        vertical-align: middle;\n",
       "    }\n",
       "\n",
       "    .dataframe tbody tr th {\n",
       "        vertical-align: top;\n",
       "    }\n",
       "\n",
       "    .dataframe thead th {\n",
       "        text-align: right;\n",
       "    }\n",
       "</style>\n",
       "<table border=\"1\" class=\"dataframe\">\n",
       "  <thead>\n",
       "    <tr style=\"text-align: right;\">\n",
       "      <th></th>\n",
       "      <th>Pokemon_x</th>\n",
       "      <th>Observed</th>\n",
       "      <th>Pokemon_y</th>\n",
       "      <th>Usage%</th>\n",
       "      <th>Expected</th>\n",
       "      <th>ChiVal</th>\n",
       "      <th>Difference</th>\n",
       "    </tr>\n",
       "  </thead>\n",
       "  <tbody>\n",
       "    <tr>\n",
       "      <th>0</th>\n",
       "      <td>Latios</td>\n",
       "      <td>3554.0</td>\n",
       "      <td>Latios</td>\n",
       "      <td>0.046233</td>\n",
       "      <td>2774.000759</td>\n",
       "      <td>219.321792</td>\n",
       "      <td>779.999241</td>\n",
       "    </tr>\n",
       "    <tr>\n",
       "      <th>1</th>\n",
       "      <td>Tyranitar</td>\n",
       "      <td>3110.0</td>\n",
       "      <td>Tyranitar</td>\n",
       "      <td>0.043967</td>\n",
       "      <td>2638.003923</td>\n",
       "      <td>84.450328</td>\n",
       "      <td>471.996077</td>\n",
       "    </tr>\n",
       "    <tr>\n",
       "      <th>5</th>\n",
       "      <td>Politoed</td>\n",
       "      <td>2393.0</td>\n",
       "      <td>Landorus-Therian</td>\n",
       "      <td>0.033136</td>\n",
       "      <td>1988.164781</td>\n",
       "      <td>82.433587</td>\n",
       "      <td>404.835219</td>\n",
       "    </tr>\n",
       "    <tr>\n",
       "      <th>8</th>\n",
       "      <td>Jirachi</td>\n",
       "      <td>2091.0</td>\n",
       "      <td>Dragonite</td>\n",
       "      <td>0.028935</td>\n",
       "      <td>1736.116185</td>\n",
       "      <td>72.542681</td>\n",
       "      <td>354.883815</td>\n",
       "    </tr>\n",
       "    <tr>\n",
       "      <th>7</th>\n",
       "      <td>Scizor</td>\n",
       "      <td>2116.0</td>\n",
       "      <td>Jirachi</td>\n",
       "      <td>0.029517</td>\n",
       "      <td>1771.022079</td>\n",
       "      <td>67.198352</td>\n",
       "      <td>344.977921</td>\n",
       "    </tr>\n",
       "    <tr>\n",
       "      <th>6</th>\n",
       "      <td>Starmie</td>\n",
       "      <td>2125.0</td>\n",
       "      <td>Excadrill</td>\n",
       "      <td>0.030917</td>\n",
       "      <td>1855.000709</td>\n",
       "      <td>39.298970</td>\n",
       "      <td>269.999291</td>\n",
       "    </tr>\n",
       "    <tr>\n",
       "      <th>2</th>\n",
       "      <td>Ferrothorn</td>\n",
       "      <td>2817.0</td>\n",
       "      <td>Ferrothorn</td>\n",
       "      <td>0.042344</td>\n",
       "      <td>2540.652431</td>\n",
       "      <td>30.058412</td>\n",
       "      <td>276.347569</td>\n",
       "    </tr>\n",
       "    <tr>\n",
       "      <th>42</th>\n",
       "      <td>Chansey</td>\n",
       "      <td>391.0</td>\n",
       "      <td>Darmanitan</td>\n",
       "      <td>0.005000</td>\n",
       "      <td>299.987220</td>\n",
       "      <td>27.612263</td>\n",
       "      <td>91.012780</td>\n",
       "    </tr>\n",
       "    <tr>\n",
       "      <th>91</th>\n",
       "      <td>Heracross</td>\n",
       "      <td>46.0</td>\n",
       "      <td>Swampert</td>\n",
       "      <td>0.001628</td>\n",
       "      <td>97.691624</td>\n",
       "      <td>27.351618</td>\n",
       "      <td>-51.691624</td>\n",
       "    </tr>\n",
       "    <tr>\n",
       "      <th>41</th>\n",
       "      <td>Toxicroak</td>\n",
       "      <td>395.0</td>\n",
       "      <td>Gastrodon</td>\n",
       "      <td>0.005113</td>\n",
       "      <td>306.786860</td>\n",
       "      <td>25.364704</td>\n",
       "      <td>88.213140</td>\n",
       "    </tr>\n",
       "  </tbody>\n",
       "</table>\n",
       "</div>"
      ],
      "text/plain": [
       "     Pokemon_x  Observed         Pokemon_y    Usage%     Expected      ChiVal  \\\n",
       "0       Latios    3554.0            Latios  0.046233  2774.000759  219.321792   \n",
       "1    Tyranitar    3110.0         Tyranitar  0.043967  2638.003923   84.450328   \n",
       "5     Politoed    2393.0  Landorus-Therian  0.033136  1988.164781   82.433587   \n",
       "8      Jirachi    2091.0         Dragonite  0.028935  1736.116185   72.542681   \n",
       "7       Scizor    2116.0           Jirachi  0.029517  1771.022079   67.198352   \n",
       "6      Starmie    2125.0         Excadrill  0.030917  1855.000709   39.298970   \n",
       "2   Ferrothorn    2817.0        Ferrothorn  0.042344  2540.652431   30.058412   \n",
       "42     Chansey     391.0        Darmanitan  0.005000   299.987220   27.612263   \n",
       "91   Heracross      46.0          Swampert  0.001628    97.691624   27.351618   \n",
       "41   Toxicroak     395.0         Gastrodon  0.005113   306.786860   25.364704   \n",
       "\n",
       "    Difference  \n",
       "0   779.999241  \n",
       "1   471.996077  \n",
       "5   404.835219  \n",
       "8   354.883815  \n",
       "7   344.977921  \n",
       "6   269.999291  \n",
       "2   276.347569  \n",
       "42   91.012780  \n",
       "91  -51.691624  \n",
       "41   88.213140  "
      ]
     },
     "execution_count": 254,
     "metadata": {},
     "output_type": "execute_result"
    }
   ],
   "source": [
    "merged_perc.sort_values(by=\"ChiVal\", ascending=False).head(10)"
   ]
  },
  {
   "cell_type": "code",
   "execution_count": 250,
   "id": "b792e5b0",
   "metadata": {},
   "outputs": [
    {
     "data": {
      "text/plain": [
       "<Axes: >"
      ]
     },
     "execution_count": 250,
     "metadata": {},
     "output_type": "execute_result"
    },
    {
     "data": {
      "image/png": "[encoded data removed]",
      "text/plain": [
       "<Figure size 1500x1000 with 1 Axes>"
      ]
     },
     "metadata": {},
     "output_type": "display_data"
    }
   ],
   "source": [
    "merged_perc[\"Difference\"].plot(kind=\"barh\", figsize=(15, 10))"
   ]
  },
  {
   "cell_type": "code",
   "execution_count": null,
   "id": "bda722e2",
   "metadata": {},
   "outputs": [],
   "source": []
  }
 ],
 "metadata": {
  "kernelspec": {
   "display_name": "Python 3",
   "language": "python",
   "name": "python3"
  },
  "language_info": {
   "codemirror_mode": {
    "name": "ipython",
    "version": 3
   },
   "file_extension": ".py",
   "mimetype": "text/x-python",
   "name": "python",
   "nbconvert_exporter": "python",
   "pygments_lexer": "ipython3",
   "version": "3.12.6"
  }
 },
 "nbformat": 4,
 "nbformat_minor": 5
}
