{
 "cells": [
  {
   "cell_type": "code",
   "execution_count": 289,
   "id": "8b8382aa",
   "metadata": {},
   "outputs": [],
   "source": [
    "# Checkpoint to begin loading the Showdown data set\n",
    "\n",
    "import pandas as pd\n",
    "import numpy as np\n",
    "import seaborn as sns\n",
    "import matplotlib.pyplot as plt\n",
    "from scipy import stats as sp\n",
    "\n",
    "gen5_types_df = pd.read_csv(\"./dataset/pokemon-fandom/pokemon_gen5_types_fixed.csv\")\n",
    "gen5_stats_df = pd.read_csv(r\"dataset/bulbagarden/pokemon_gen5_stats.csv\")\n",
    "pokemon_counts_df = pd.read_csv(\"./dataset/showdown/showdown_2players.csv\")\n",
    "unique_pokemons_df = pd.read_csv(\"unique_pokemons.csv\")\n",
    "gen5ou_usage_latest = pd.read_csv(\"./dataset/smogon/2025-06-gen5ou-0.csv\")"
   ]
  },
  {
   "cell_type": "code",
   "execution_count": 290,
   "id": "44099144",
   "metadata": {},
   "outputs": [],
   "source": [
    "gen5ou_usage_latest.drop(\"Rank\", axis=1, inplace=True)"
   ]
  },
  {
   "cell_type": "markdown",
   "id": "337811c5",
   "metadata": {},
   "source": [
    "Turn Pokemon List sorted by usage, then take Usage%. We chooset to use this instead of getting the percentage of each Pokemon gotten by dividing the Raw battle numbers by the total recorded battle numbers to maintain information on Pokemon not recorded by the data.\n",
    "\n",
    "Suppose Latios who is used 24477 times out of 531591 matches, that would lead to his Usage% being 27.63% (in a scale of 600%), but his actual Usage% is 27.57% due to the number of unrecorded battles in the database. By using the Usage% in the database, we are maintaining the data that is unrecorded as part of the consideration."
   ]
  },
  {
   "cell_type": "code",
   "execution_count": 291,
   "id": "c4003d84",
   "metadata": {},
   "outputs": [
    {
     "name": "stdout",
     "output_type": "stream",
     "text": [
      "1.320889999999963\n"
     ]
    },
    {
     "data": {
      "text/html": [
       "<div>\n",
       "<style scoped>\n",
       "    .dataframe tbody tr th:only-of-type {\n",
       "        vertical-align: middle;\n",
       "    }\n",
       "\n",
       "    .dataframe tbody tr th {\n",
       "        vertical-align: top;\n",
       "    }\n",
       "\n",
       "    .dataframe thead th {\n",
       "        text-align: right;\n",
       "    }\n",
       "</style>\n",
       "<table border=\"1\" class=\"dataframe\">\n",
       "  <thead>\n",
       "    <tr style=\"text-align: right;\">\n",
       "      <th></th>\n",
       "      <th>Pokemon</th>\n",
       "      <th>Usage%</th>\n",
       "    </tr>\n",
       "  </thead>\n",
       "  <tbody>\n",
       "    <tr>\n",
       "      <th>0</th>\n",
       "      <td>Latios</td>\n",
       "      <td>27.56605%</td>\n",
       "    </tr>\n",
       "    <tr>\n",
       "      <th>1</th>\n",
       "      <td>Tyranitar</td>\n",
       "      <td>26.21461%</td>\n",
       "    </tr>\n",
       "    <tr>\n",
       "      <th>2</th>\n",
       "      <td>Ferrothorn</td>\n",
       "      <td>25.24720%</td>\n",
       "    </tr>\n",
       "    <tr>\n",
       "      <th>3</th>\n",
       "      <td>Starmie</td>\n",
       "      <td>24.35525%</td>\n",
       "    </tr>\n",
       "    <tr>\n",
       "      <th>4</th>\n",
       "      <td>Garchomp</td>\n",
       "      <td>23.53312%</td>\n",
       "    </tr>\n",
       "    <tr>\n",
       "      <th>...</th>\n",
       "      <td>...</td>\n",
       "      <td>...</td>\n",
       "    </tr>\n",
       "    <tr>\n",
       "      <th>471</th>\n",
       "      <td>Ledian</td>\n",
       "      <td>0.00113%</td>\n",
       "    </tr>\n",
       "    <tr>\n",
       "      <th>472</th>\n",
       "      <td>Tirtouga</td>\n",
       "      <td>0.00113%</td>\n",
       "    </tr>\n",
       "    <tr>\n",
       "      <th>473</th>\n",
       "      <td>Minccino</td>\n",
       "      <td>0.00113%</td>\n",
       "    </tr>\n",
       "    <tr>\n",
       "      <th>474</th>\n",
       "      <td>Darumaka</td>\n",
       "      <td>0.00113%</td>\n",
       "    </tr>\n",
       "    <tr>\n",
       "      <th>475</th>\n",
       "      <td>Zweilous</td>\n",
       "      <td>0.00113%</td>\n",
       "    </tr>\n",
       "  </tbody>\n",
       "</table>\n",
       "<p>476 rows × 2 columns</p>\n",
       "</div>"
      ],
      "text/plain": [
       "        Pokemon     Usage%\n",
       "0        Latios  27.56605%\n",
       "1     Tyranitar  26.21461%\n",
       "2    Ferrothorn  25.24720%\n",
       "3       Starmie  24.35525%\n",
       "4      Garchomp  23.53312%\n",
       "..          ...        ...\n",
       "471      Ledian   0.00113%\n",
       "472    Tirtouga   0.00113%\n",
       "473    Minccino   0.00113%\n",
       "474    Darumaka   0.00113%\n",
       "475    Zweilous   0.00113%\n",
       "\n",
       "[476 rows x 2 columns]"
      ]
     },
     "execution_count": 291,
     "metadata": {},
     "output_type": "execute_result"
    }
   ],
   "source": [
    "pokemon_usage_expected_perc = gen5ou_usage_latest.drop([\"Raw\", \"%\", \"Real\", \"%.1\"], axis=1)\n",
    "print(600 - pokemon_usage_expected_perc[\"Usage%\"].str.rstrip(\"%\").astype(float).sum())\n",
    "pokemon_usage_expected_perc"
   ]
  },
  {
   "cell_type": "markdown",
   "id": "f681b4c7",
   "metadata": {},
   "source": [
    "Below is the pre-processing for the Showdown data. All the Pokemon in the dataframe is counted, then the table is convert to a dataframe."
   ]
  },
  {
   "cell_type": "code",
   "execution_count": 292,
   "id": "6e9c9c71",
   "metadata": {},
   "outputs": [
    {
     "data": {
      "text/html": [
       "<div>\n",
       "<style scoped>\n",
       "    .dataframe tbody tr th:only-of-type {\n",
       "        vertical-align: middle;\n",
       "    }\n",
       "\n",
       "    .dataframe tbody tr th {\n",
       "        vertical-align: top;\n",
       "    }\n",
       "\n",
       "    .dataframe thead th {\n",
       "        text-align: right;\n",
       "    }\n",
       "</style>\n",
       "<table border=\"1\" class=\"dataframe\">\n",
       "  <thead>\n",
       "    <tr style=\"text-align: right;\">\n",
       "      <th></th>\n",
       "      <th>Pokemon</th>\n",
       "      <th>Observed</th>\n",
       "    </tr>\n",
       "  </thead>\n",
       "  <tbody>\n",
       "    <tr>\n",
       "      <th>0</th>\n",
       "      <td>Latios</td>\n",
       "      <td>3554</td>\n",
       "    </tr>\n",
       "    <tr>\n",
       "      <th>1</th>\n",
       "      <td>Tyranitar</td>\n",
       "      <td>3110</td>\n",
       "    </tr>\n",
       "    <tr>\n",
       "      <th>2</th>\n",
       "      <td>Ferrothorn</td>\n",
       "      <td>2817</td>\n",
       "    </tr>\n",
       "    <tr>\n",
       "      <th>3</th>\n",
       "      <td>Landorus-Therian</td>\n",
       "      <td>2571</td>\n",
       "    </tr>\n",
       "    <tr>\n",
       "      <th>4</th>\n",
       "      <td>Garchomp</td>\n",
       "      <td>2403</td>\n",
       "    </tr>\n",
       "    <tr>\n",
       "      <th>...</th>\n",
       "      <td>...</td>\n",
       "      <td>...</td>\n",
       "    </tr>\n",
       "    <tr>\n",
       "      <th>251</th>\n",
       "      <td>Cacturne</td>\n",
       "      <td>1</td>\n",
       "    </tr>\n",
       "    <tr>\n",
       "      <th>252</th>\n",
       "      <td>Kangaskhan</td>\n",
       "      <td>1</td>\n",
       "    </tr>\n",
       "    <tr>\n",
       "      <th>253</th>\n",
       "      <td>Swellow</td>\n",
       "      <td>1</td>\n",
       "    </tr>\n",
       "    <tr>\n",
       "      <th>254</th>\n",
       "      <td>Kingler</td>\n",
       "      <td>1</td>\n",
       "    </tr>\n",
       "    <tr>\n",
       "      <th>255</th>\n",
       "      <td>Spinda</td>\n",
       "      <td>1</td>\n",
       "    </tr>\n",
       "  </tbody>\n",
       "</table>\n",
       "<p>256 rows × 2 columns</p>\n",
       "</div>"
      ],
      "text/plain": [
       "              Pokemon  Observed\n",
       "0              Latios      3554\n",
       "1           Tyranitar      3110\n",
       "2          Ferrothorn      2817\n",
       "3    Landorus-Therian      2571\n",
       "4            Garchomp      2403\n",
       "..                ...       ...\n",
       "251          Cacturne         1\n",
       "252        Kangaskhan         1\n",
       "253           Swellow         1\n",
       "254           Kingler         1\n",
       "255            Spinda         1\n",
       "\n",
       "[256 rows x 2 columns]"
      ]
     },
     "execution_count": 292,
     "metadata": {},
     "output_type": "execute_result"
    }
   ],
   "source": [
    "showdown_pokemon = pd.concat([pokemon_counts_df[\"Player \" + str(m) + \" Pokemon \" + str(n)] for m in range(1, 3) for n in range(1, 7)], ignore_index=True)\n",
    "showdown_pokemon.value_counts()\n",
    "# Convert to DataFrame\n",
    "df_counts = showdown_pokemon.value_counts().reset_index()\n",
    "\n",
    "# Rename columns for clarity\n",
    "df_counts.columns = ['Pokemon', 'Observed']\n",
    "df_counts\n"
   ]
  },
  {
   "cell_type": "markdown",
   "id": "ff49e4c3",
   "metadata": {},
   "source": [
    "60000 instances of Pokemon have been recorded. This makes sense as each of the 5000 battles has 12 Pokemon with each player using 6 and there are 2 players each battle."
   ]
  },
  {
   "cell_type": "code",
   "execution_count": 293,
   "id": "1bf0d1e6",
   "metadata": {},
   "outputs": [
    {
     "data": {
      "text/plain": [
       "np.int64(60000)"
      ]
     },
     "execution_count": 293,
     "metadata": {},
     "output_type": "execute_result"
    }
   ],
   "source": [
    "df_counts[\"Observed\"].sum()"
   ]
  },
  {
   "cell_type": "markdown",
   "id": "e1ffc334",
   "metadata": {},
   "source": [
    "Right Join is used so that if a Pokemon appears in the Smogon database (expected), it will show up in the findings even if the replays gathered do not end up recording a player using said Pokemon. Data frames are also merged together for simplicity. All NaN values are replaced with 0 after the merge."
   ]
  },
  {
   "cell_type": "markdown",
   "id": "2187c77b",
   "metadata": {},
   "source": [
    "Once the cutoff has been decided, all values lower than said cutoff are removed,"
   ]
  },
  {
   "cell_type": "code",
   "execution_count": 294,
   "id": "a1634e2b",
   "metadata": {},
   "outputs": [],
   "source": [
    "merged_perc = pd.merge(\n",
    "    df_counts.reset_index(), \n",
    "    pokemon_usage_expected_perc.reset_index(), \n",
    "    on=\"Pokemon\", \n",
    "    how=\"right\"\n",
    ")\n",
    "\n",
    "merged_perc = merged_perc.fillna(0)"
   ]
  },
  {
   "cell_type": "markdown",
   "id": "5558dd64",
   "metadata": {},
   "source": [
    "The first requirement of Chi-Square test is that each observation should be independent of other observations, which is fulfilled by each Pokemon being able to be used by each individual player. The second requirement of Chi-Square test is that each expected count should be at least 5.\n",
    "\n",
    "With this in mind, any Pokemon with expected uses less than 5 uses should be removed.\n",
    "\n",
    "A caveat is that since the expected Pokemon values is missing 0.22% of its data, the cut-off value has to be calculated by getting the minimum percentage of a Pokemon used 5 times out of 60000 possible battles, then multiplied to the Total Expected percentage to keep both ratios equal.\n",
    "\n",
    "5 / 60000 = Expected / Sum of Expected"
   ]
  },
  {
   "cell_type": "code",
   "execution_count": 295,
   "id": "1b0505f9",
   "metadata": {},
   "outputs": [
    {
     "name": "stdout",
     "output_type": "stream",
     "text": [
      "598.67911 596.2374000000001\n"
     ]
    }
   ],
   "source": [
    "merged_perc[\"Usage%\"] = merged_perc[\"Usage%\"].str.rstrip(\"%\").astype(float)\n",
    "original_sum = merged_perc[\"Usage%\"].sum()\n",
    "merged_perc = merged_perc[merged_perc[\"Usage%\"] >= 5 / 60000 * original_sum]\n",
    "usage_sum = merged_perc[\"Usage%\"].sum()\n",
    "print(original_sum, usage_sum)"
   ]
  },
  {
   "cell_type": "markdown",
   "id": "f803012d",
   "metadata": {},
   "source": [
    "After cleaning the data to work with the Chi-Square test, unnecessary columns are removed and the dataframe is sorted by the descending number of Observed values."
   ]
  },
  {
   "cell_type": "code",
   "execution_count": 296,
   "id": "8c8fbfa0",
   "metadata": {},
   "outputs": [
    {
     "name": "stdout",
     "output_type": "stream",
     "text": [
      "              Pokemon  Observed    Usage%\n",
      "0              Latios    3554.0  27.56605\n",
      "1           Tyranitar    3110.0  26.21461\n",
      "2          Ferrothorn    2817.0  25.24720\n",
      "3    Landorus-Therian    2571.0  19.75697\n",
      "4            Garchomp    2403.0  23.53312\n",
      "..                ...       ...       ...\n",
      "270         Bastiodon       0.0   0.07433\n",
      "271           Pidgeot       0.0   0.07320\n",
      "272          Meganium       0.0   0.05068\n",
      "273          Granbull       0.0   0.05068\n",
      "274           Grovyle       0.0   0.05068\n",
      "\n",
      "[275 rows x 3 columns]\n"
     ]
    }
   ],
   "source": [
    "merged_perc.drop(columns=[\"index_x\", \"index_y\"], inplace=True)\n",
    "merged_perc.sort_values(by=\"Observed\", ascending=False, inplace=True)\n",
    "merged_perc = merged_perc.reset_index(drop=True)\n",
    "print(merged_perc)"
   ]
  },
  {
   "cell_type": "markdown",
   "id": "339900f4",
   "metadata": {},
   "source": [
    "Usage gets normalized to a scale of 1 by dividing all values to the sum of total values. As seen below, adding up all the final normalized values lead to a number close to 1."
   ]
  },
  {
   "cell_type": "code",
   "execution_count": 297,
   "id": "7d62d7e3",
   "metadata": {},
   "outputs": [
    {
     "data": {
      "text/plain": [
       "np.float64(0.9999999999999999)"
      ]
     },
     "execution_count": 297,
     "metadata": {},
     "output_type": "execute_result"
    }
   ],
   "source": [
    "merged_perc[\"Usage%\"] = merged_perc[\"Usage%\"] / usage_sum\n",
    "merged_perc[\"Usage%\"].sum()"
   ]
  },
  {
   "cell_type": "markdown",
   "id": "b299c491",
   "metadata": {},
   "source": [
    "The Usage% is multiplied to the total number of observed Pokemon to get the Expected number of games a Pokemon should be seen in. The last 10 entries in the dataframe are also shown to check whether the lowest Expected Pokemon count is at least 5."
   ]
  },
  {
   "cell_type": "code",
   "execution_count": 298,
   "id": "d973d4f3",
   "metadata": {},
   "outputs": [
    {
     "data": {
      "text/html": [
       "<div>\n",
       "<style scoped>\n",
       "    .dataframe tbody tr th:only-of-type {\n",
       "        vertical-align: middle;\n",
       "    }\n",
       "\n",
       "    .dataframe tbody tr th {\n",
       "        vertical-align: top;\n",
       "    }\n",
       "\n",
       "    .dataframe thead th {\n",
       "        text-align: right;\n",
       "    }\n",
       "</style>\n",
       "<table border=\"1\" class=\"dataframe\">\n",
       "  <thead>\n",
       "    <tr style=\"text-align: right;\">\n",
       "      <th></th>\n",
       "      <th>Pokemon</th>\n",
       "      <th>Observed</th>\n",
       "      <th>Usage%</th>\n",
       "      <th>Expected</th>\n",
       "    </tr>\n",
       "  </thead>\n",
       "  <tbody>\n",
       "    <tr>\n",
       "      <th>265</th>\n",
       "      <td>Misdreavus</td>\n",
       "      <td>0.0</td>\n",
       "      <td>0.000145</td>\n",
       "      <td>8.589570</td>\n",
       "    </tr>\n",
       "    <tr>\n",
       "      <th>266</th>\n",
       "      <td>Primeape</td>\n",
       "      <td>0.0</td>\n",
       "      <td>0.000159</td>\n",
       "      <td>9.370080</td>\n",
       "    </tr>\n",
       "    <tr>\n",
       "      <th>267</th>\n",
       "      <td>Pinsir</td>\n",
       "      <td>0.0</td>\n",
       "      <td>0.000145</td>\n",
       "      <td>8.589570</td>\n",
       "    </tr>\n",
       "    <tr>\n",
       "      <th>268</th>\n",
       "      <td>Leavanny</td>\n",
       "      <td>0.0</td>\n",
       "      <td>0.000144</td>\n",
       "      <td>8.477644</td>\n",
       "    </tr>\n",
       "    <tr>\n",
       "      <th>269</th>\n",
       "      <td>Castform</td>\n",
       "      <td>0.0</td>\n",
       "      <td>0.000142</td>\n",
       "      <td>8.366709</td>\n",
       "    </tr>\n",
       "    <tr>\n",
       "      <th>270</th>\n",
       "      <td>Bastiodon</td>\n",
       "      <td>0.0</td>\n",
       "      <td>0.000125</td>\n",
       "      <td>7.362347</td>\n",
       "    </tr>\n",
       "    <tr>\n",
       "      <th>271</th>\n",
       "      <td>Pidgeot</td>\n",
       "      <td>0.0</td>\n",
       "      <td>0.000123</td>\n",
       "      <td>7.250421</td>\n",
       "    </tr>\n",
       "    <tr>\n",
       "      <th>272</th>\n",
       "      <td>Meganium</td>\n",
       "      <td>0.0</td>\n",
       "      <td>0.000085</td>\n",
       "      <td>5.019827</td>\n",
       "    </tr>\n",
       "    <tr>\n",
       "      <th>273</th>\n",
       "      <td>Granbull</td>\n",
       "      <td>0.0</td>\n",
       "      <td>0.000085</td>\n",
       "      <td>5.019827</td>\n",
       "    </tr>\n",
       "    <tr>\n",
       "      <th>274</th>\n",
       "      <td>Grovyle</td>\n",
       "      <td>0.0</td>\n",
       "      <td>0.000085</td>\n",
       "      <td>5.019827</td>\n",
       "    </tr>\n",
       "  </tbody>\n",
       "</table>\n",
       "</div>"
      ],
      "text/plain": [
       "        Pokemon  Observed    Usage%  Expected\n",
       "265  Misdreavus       0.0  0.000145  8.589570\n",
       "266    Primeape       0.0  0.000159  9.370080\n",
       "267      Pinsir       0.0  0.000145  8.589570\n",
       "268    Leavanny       0.0  0.000144  8.477644\n",
       "269    Castform       0.0  0.000142  8.366709\n",
       "270   Bastiodon       0.0  0.000125  7.362347\n",
       "271     Pidgeot       0.0  0.000123  7.250421\n",
       "272    Meganium       0.0  0.000085  5.019827\n",
       "273    Granbull       0.0  0.000085  5.019827\n",
       "274     Grovyle       0.0  0.000085  5.019827"
      ]
     },
     "execution_count": 298,
     "metadata": {},
     "output_type": "execute_result"
    }
   ],
   "source": [
    "merged_perc = merged_perc[merged_perc[\"Usage%\"] > 0]\n",
    "observed_sum = merged_perc[\"Observed\"].sum()\n",
    "merged_perc[\"Expected\"] = observed_sum * merged_perc[\"Usage%\"]\n",
    "merged_perc.tail(10)"
   ]
  },
  {
   "cell_type": "markdown",
   "id": "a04f5334",
   "metadata": {},
   "source": [
    "The Chi-Square test can finally be done after setting up the data frame. With this in mind, the hypotheses are as follows.\n",
    "\n",
    "##### α = 0.05\n",
    "##### H_0: The observed Pokemon battles follow the distribution gotten from the Smogon database.\n",
    "##### H_a: The observed Pokemon battles do not follow the distribution gotten from the Smogon database."
   ]
  },
  {
   "cell_type": "code",
   "execution_count": 299,
   "id": "49e4d675",
   "metadata": {},
   "outputs": [
    {
     "name": "stdout",
     "output_type": "stream",
     "text": [
      "Chi-square statistic: 10402.437128799567\n",
      "p-value: 0.0\n"
     ]
    }
   ],
   "source": [
    "chi2_stat, p_val = sp.chisquare(f_obs=merged_perc[\"Observed\"], f_exp=merged_perc[\"Expected\"])\n",
    "\n",
    "print(\"Chi-square statistic:\", chi2_stat)\n",
    "print(\"p-value:\", p_val)"
   ]
  },
  {
   "cell_type": "markdown",
   "id": "77dbb469",
   "metadata": {},
   "source": [
    "After finishing the test, it is easy to conclude that the Observed Pokemon battles from the replays gotten through Pokemon Showdown did not match the Expected distribution in the database. However, we decided to look into some of the possible explanations why.\n",
    "\n",
    "After realizing that the Chi-Square value is way too high, we decided to calculate the Chi-Square value for each individual Pokemon to determine which Pokemon have the highest Chi-Square value."
   ]
  },
  {
   "cell_type": "code",
   "execution_count": 300,
   "id": "7a1dde75",
   "metadata": {},
   "outputs": [
    {
     "data": {
      "text/html": [
       "<div>\n",
       "<style scoped>\n",
       "    .dataframe tbody tr th:only-of-type {\n",
       "        vertical-align: middle;\n",
       "    }\n",
       "\n",
       "    .dataframe tbody tr th {\n",
       "        vertical-align: top;\n",
       "    }\n",
       "\n",
       "    .dataframe thead th {\n",
       "        text-align: right;\n",
       "    }\n",
       "</style>\n",
       "<table border=\"1\" class=\"dataframe\">\n",
       "  <thead>\n",
       "    <tr style=\"text-align: right;\">\n",
       "      <th></th>\n",
       "      <th>Pokemon</th>\n",
       "      <th>Observed</th>\n",
       "      <th>Usage%</th>\n",
       "      <th>Expected</th>\n",
       "      <th>ChiVal</th>\n",
       "    </tr>\n",
       "  </thead>\n",
       "  <tbody>\n",
       "    <tr>\n",
       "      <th>5</th>\n",
       "      <td>Politoed</td>\n",
       "      <td>2393.0</td>\n",
       "      <td>0.022307</td>\n",
       "      <td>1317.402558</td>\n",
       "      <td>878.174899</td>\n",
       "    </tr>\n",
       "    <tr>\n",
       "      <th>74</th>\n",
       "      <td>Gothitelle</td>\n",
       "      <td>78.0</td>\n",
       "      <td>0.000123</td>\n",
       "      <td>7.250421</td>\n",
       "      <td>690.374063</td>\n",
       "    </tr>\n",
       "    <tr>\n",
       "      <th>32</th>\n",
       "      <td>Tornadus</td>\n",
       "      <td>503.0</td>\n",
       "      <td>0.003462</td>\n",
       "      <td>204.470798</td>\n",
       "      <td>435.855318</td>\n",
       "    </tr>\n",
       "    <tr>\n",
       "      <th>70</th>\n",
       "      <td>Dugtrio</td>\n",
       "      <td>90.0</td>\n",
       "      <td>0.000295</td>\n",
       "      <td>17.402002</td>\n",
       "      <td>302.865693</td>\n",
       "    </tr>\n",
       "    <tr>\n",
       "      <th>40</th>\n",
       "      <td>Toxicroak</td>\n",
       "      <td>395.0</td>\n",
       "      <td>0.003007</td>\n",
       "      <td>177.586790</td>\n",
       "      <td>266.171284</td>\n",
       "    </tr>\n",
       "    <tr>\n",
       "      <th>0</th>\n",
       "      <td>Latios</td>\n",
       "      <td>3554.0</td>\n",
       "      <td>0.046233</td>\n",
       "      <td>2730.402713</td>\n",
       "      <td>248.429467</td>\n",
       "    </tr>\n",
       "    <tr>\n",
       "      <th>31</th>\n",
       "      <td>Conkeldurr</td>\n",
       "      <td>514.0</td>\n",
       "      <td>0.017126</td>\n",
       "      <td>1011.421898</td>\n",
       "      <td>244.634356</td>\n",
       "    </tr>\n",
       "    <tr>\n",
       "      <th>78</th>\n",
       "      <td>Chandelure</td>\n",
       "      <td>61.0</td>\n",
       "      <td>0.005644</td>\n",
       "      <td>333.310390</td>\n",
       "      <td>222.474158</td>\n",
       "    </tr>\n",
       "    <tr>\n",
       "      <th>16</th>\n",
       "      <td>Magnezone</td>\n",
       "      <td>1157.0</td>\n",
       "      <td>0.012840</td>\n",
       "      <td>758.314838</td>\n",
       "      <td>209.609321</td>\n",
       "    </tr>\n",
       "    <tr>\n",
       "      <th>3</th>\n",
       "      <td>Landorus-Therian</td>\n",
       "      <td>2571.0</td>\n",
       "      <td>0.033136</td>\n",
       "      <td>1956.917458</td>\n",
       "      <td>192.699680</td>\n",
       "    </tr>\n",
       "  </tbody>\n",
       "</table>\n",
       "</div>"
      ],
      "text/plain": [
       "             Pokemon  Observed    Usage%     Expected      ChiVal\n",
       "5           Politoed    2393.0  0.022307  1317.402558  878.174899\n",
       "74        Gothitelle      78.0  0.000123     7.250421  690.374063\n",
       "32          Tornadus     503.0  0.003462   204.470798  435.855318\n",
       "70           Dugtrio      90.0  0.000295    17.402002  302.865693\n",
       "40         Toxicroak     395.0  0.003007   177.586790  266.171284\n",
       "0             Latios    3554.0  0.046233  2730.402713  248.429467\n",
       "31        Conkeldurr     514.0  0.017126  1011.421898  244.634356\n",
       "78        Chandelure      61.0  0.005644   333.310390  222.474158\n",
       "16         Magnezone    1157.0  0.012840   758.314838  209.609321\n",
       "3   Landorus-Therian    2571.0  0.033136  1956.917458  192.699680"
      ]
     },
     "execution_count": 300,
     "metadata": {},
     "output_type": "execute_result"
    }
   ],
   "source": [
    "merged_perc[\"ChiVal\"] = (merged_perc[\"Observed\"] - merged_perc[\"Expected\"]) ** 2 / merged_perc[\"Expected\"]\n",
    "merged_perc.sort_values(by=\"ChiVal\", ascending=False).head(10)"
   ]
  },
  {
   "cell_type": "markdown",
   "id": "b5fdf828",
   "metadata": {},
   "source": [
    "We also decided to create a graph of the Chi-Square values for each Pokemon to determine where the biggest spikes are, if it was more for Pokemon that were used a lot, or more towards the least used Pokemon."
   ]
  },
  {
   "cell_type": "code",
   "execution_count": 301,
   "id": "b792e5b0",
   "metadata": {},
   "outputs": [
    {
     "data": {
      "text/plain": [
       "<Axes: >"
      ]
     },
     "execution_count": 301,
     "metadata": {},
     "output_type": "execute_result"
    },
    {
     "data": {
      "image/png": "[encoded data removed]",
      "text/plain": [
       "<Figure size 1500x1000 with 1 Axes>"
      ]
     },
     "metadata": {},
     "output_type": "display_data"
    }
   ],
   "source": [
    "merged_perc[\"ChiVal\"].plot(kind=\"barh\", figsize=(15, 10))"
   ]
  },
  {
   "cell_type": "markdown",
   "id": "7ed350f1",
   "metadata": {},
   "source": [
    "Some other conclusions that we made were that due to our dataset containing only 0.941% of the battles in the database, it makes sense that, especially the least used Pokemon, to not show up at all in the replays. On the other hand, some Pokemon were just used more than what was expected of them. Some of the most used Pokemon fit this and this contributed quite significantly to the Chi-Square value being so high."
   ]
  },
  {
   "cell_type": "code",
   "execution_count": 303,
   "id": "ce2930e4",
   "metadata": {},
   "outputs": [
    {
     "data": {
      "text/html": [
       "<div>\n",
       "<style scoped>\n",
       "    .dataframe tbody tr th:only-of-type {\n",
       "        vertical-align: middle;\n",
       "    }\n",
       "\n",
       "    .dataframe tbody tr th {\n",
       "        vertical-align: top;\n",
       "    }\n",
       "\n",
       "    .dataframe thead th {\n",
       "        text-align: right;\n",
       "    }\n",
       "</style>\n",
       "<table border=\"1\" class=\"dataframe\">\n",
       "  <thead>\n",
       "    <tr style=\"text-align: right;\">\n",
       "      <th></th>\n",
       "      <th>Pokemon</th>\n",
       "      <th>Observed</th>\n",
       "      <th>Usage%</th>\n",
       "      <th>Expected</th>\n",
       "      <th>ChiVal</th>\n",
       "      <th>Difference</th>\n",
       "    </tr>\n",
       "  </thead>\n",
       "  <tbody>\n",
       "    <tr>\n",
       "      <th>5</th>\n",
       "      <td>Politoed</td>\n",
       "      <td>2393.0</td>\n",
       "      <td>0.022307</td>\n",
       "      <td>1317.402558</td>\n",
       "      <td>878.174899</td>\n",
       "      <td>1075.597442</td>\n",
       "    </tr>\n",
       "    <tr>\n",
       "      <th>0</th>\n",
       "      <td>Latios</td>\n",
       "      <td>3554.0</td>\n",
       "      <td>0.046233</td>\n",
       "      <td>2730.402713</td>\n",
       "      <td>248.429467</td>\n",
       "      <td>823.597287</td>\n",
       "    </tr>\n",
       "    <tr>\n",
       "      <th>3</th>\n",
       "      <td>Landorus-Therian</td>\n",
       "      <td>2571.0</td>\n",
       "      <td>0.033136</td>\n",
       "      <td>1956.917458</td>\n",
       "      <td>192.699680</td>\n",
       "      <td>614.082542</td>\n",
       "    </tr>\n",
       "    <tr>\n",
       "      <th>1</th>\n",
       "      <td>Tyranitar</td>\n",
       "      <td>3110.0</td>\n",
       "      <td>0.043967</td>\n",
       "      <td>2596.543294</td>\n",
       "      <td>101.534139</td>\n",
       "      <td>513.456706</td>\n",
       "    </tr>\n",
       "    <tr>\n",
       "      <th>31</th>\n",
       "      <td>Conkeldurr</td>\n",
       "      <td>514.0</td>\n",
       "      <td>0.017126</td>\n",
       "      <td>1011.421898</td>\n",
       "      <td>244.634356</td>\n",
       "      <td>497.421898</td>\n",
       "    </tr>\n",
       "    <tr>\n",
       "      <th>25</th>\n",
       "      <td>Volcarona</td>\n",
       "      <td>879.0</td>\n",
       "      <td>0.022921</td>\n",
       "      <td>1353.655655</td>\n",
       "      <td>166.436708</td>\n",
       "      <td>474.655655</td>\n",
       "    </tr>\n",
       "    <tr>\n",
       "      <th>7</th>\n",
       "      <td>Scizor</td>\n",
       "      <td>2116.0</td>\n",
       "      <td>0.028695</td>\n",
       "      <td>1694.663179</td>\n",
       "      <td>104.755162</td>\n",
       "      <td>421.336821</td>\n",
       "    </tr>\n",
       "    <tr>\n",
       "      <th>16</th>\n",
       "      <td>Magnezone</td>\n",
       "      <td>1157.0</td>\n",
       "      <td>0.012840</td>\n",
       "      <td>758.314838</td>\n",
       "      <td>209.609321</td>\n",
       "      <td>398.685162</td>\n",
       "    </tr>\n",
       "    <tr>\n",
       "      <th>17</th>\n",
       "      <td>Breloom</td>\n",
       "      <td>1116.0</td>\n",
       "      <td>0.012984</td>\n",
       "      <td>766.792482</td>\n",
       "      <td>159.033758</td>\n",
       "      <td>349.207518</td>\n",
       "    </tr>\n",
       "    <tr>\n",
       "      <th>8</th>\n",
       "      <td>Jirachi</td>\n",
       "      <td>2091.0</td>\n",
       "      <td>0.029517</td>\n",
       "      <td>1743.187516</td>\n",
       "      <td>69.397884</td>\n",
       "      <td>347.812484</td>\n",
       "    </tr>\n",
       "  </tbody>\n",
       "</table>\n",
       "</div>"
      ],
      "text/plain": [
       "             Pokemon  Observed    Usage%     Expected      ChiVal   Difference\n",
       "5           Politoed    2393.0  0.022307  1317.402558  878.174899  1075.597442\n",
       "0             Latios    3554.0  0.046233  2730.402713  248.429467   823.597287\n",
       "3   Landorus-Therian    2571.0  0.033136  1956.917458  192.699680   614.082542\n",
       "1          Tyranitar    3110.0  0.043967  2596.543294  101.534139   513.456706\n",
       "31        Conkeldurr     514.0  0.017126  1011.421898  244.634356   497.421898\n",
       "25         Volcarona     879.0  0.022921  1353.655655  166.436708   474.655655\n",
       "7             Scizor    2116.0  0.028695  1694.663179  104.755162   421.336821\n",
       "16         Magnezone    1157.0  0.012840   758.314838  209.609321   398.685162\n",
       "17           Breloom    1116.0  0.012984   766.792482  159.033758   349.207518\n",
       "8            Jirachi    2091.0  0.029517  1743.187516   69.397884   347.812484"
      ]
     },
     "execution_count": 303,
     "metadata": {},
     "output_type": "execute_result"
    }
   ],
   "source": [
    "merged_perc[\"Difference\"] = abs(merged_perc[\"Observed\"] - merged_perc[\"Expected\"])\n",
    "merged_perc.sort_values(by=\"Difference\", ascending=False).head(10)"
   ]
  }
 ],
 "metadata": {
  "kernelspec": {
   "display_name": "Python 3",
   "language": "python",
   "name": "python3"
  },
  "language_info": {
   "codemirror_mode": {
    "name": "ipython",
    "version": 3
   },
   "file_extension": ".py",
   "mimetype": "text/x-python",
   "name": "python",
   "nbconvert_exporter": "python",
   "pygments_lexer": "ipython3",
   "version": "3.12.6"
  }
 },
 "nbformat": 4,
 "nbformat_minor": 5
}
